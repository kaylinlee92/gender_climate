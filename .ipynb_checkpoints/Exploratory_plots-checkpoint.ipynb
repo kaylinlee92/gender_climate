{
 "cells": [
  {
   "cell_type": "code",
   "execution_count": 5,
   "metadata": {},
   "outputs": [],
   "source": [
    "import numpy as np\n",
    "import pandas as pd\n",
    "import matplotlib as mpl\n",
    "import matplotlib.pyplot as plt\n",
    "import seaborn as sns\n",
    "import matplotlib.style as style\n",
    "from matplotlib.patches import Patch\n",
    "\n",
    "data_path=\"/Users/kaylinlee/Desktop/SS2020DataScience/Group Project/Data/\""
   ]
  },
  {
   "cell_type": "markdown",
   "metadata": {},
   "source": [
    "# Load data sets\n",
    "### WB % of women in natl parliaments data, EDGAR GHG, CO2 emission data"
   ]
  },
  {
   "cell_type": "code",
   "execution_count": 69,
   "metadata": {},
   "outputs": [],
   "source": [
    "female_df=pd.read_excel(data_path+'Percentage_women_parliament_cleaned.xls')\n",
    "CO2_df=pd.read_excel(data_path+'EDGARv5.0_FT2018_fossil_CO2_GHG_booklet2019.xls',\n",
    "                     sheet_name='fossil_CO2_per_capita_by_countr') #data until 2018\n",
    "GHG_df=pd.read_excel(data_path+'EDGARv5.0_FT2018_fossil_CO2_GHG_booklet2019.xls',\n",
    "                     sheet_name='GHG_per_capita_by_country') #data until 2015"
   ]
  },
  {
   "cell_type": "code",
   "execution_count": 70,
   "metadata": {},
   "outputs": [],
   "source": [
    "#create long form dfs \n",
    "female_df=female_df.melt(id_vars='Country Name',var_name='Year',\n",
    "                         value_name='%Representation') #4393 rows × 3 columns\n",
    "female_df.rename(columns={'Country Name':'country_name'},inplace=True)\n",
    "CO2_df=CO2_df.melt(id_vars='country_name',var_name='Year',value_name='CO2_emissions')\n",
    "GHG_df=GHG_df.melt(id_vars='country_name',var_name='Year',value_name='GHG_emissions')"
   ]
  },
  {
   "cell_type": "code",
   "execution_count": 71,
   "metadata": {},
   "outputs": [],
   "source": [
    "#year in string to float\n",
    "female_df['Year']=female_df['Year'].astype(float) "
   ]
  },
  {
   "cell_type": "code",
   "execution_count": 75,
   "metadata": {},
   "outputs": [],
   "source": [
    "#new comprehensive dataframes with columns: country, year, variables/ 1 for co2, 1 for GHG in long form \n",
    "female_CO2_df=pd.merge(female_df, CO2_df, on=['country_name','Year'], how='left')\n",
    "female_GHG_df=pd.merge(female_df, GHG_df, on=['country_name','Year'], how='left')"
   ]
  },
  {
   "cell_type": "code",
   "execution_count": 78,
   "metadata": {},
   "outputs": [],
   "source": [
    "#merge representation data with CO2 from 1997 to 2018/ with GHG from 1997 to 2015\n",
    "female_CO2_df=female_CO2_df.loc[(female_CO2_df.Year>=(1997))&(female_CO2_df.Year<=(2018))]\n",
    "female_GHG_df=female_GHG_df.loc[(female_GHG_df.Year>=(1997))&(female_GHG_df.Year<=(2015))]\n",
    "###what to do with missing values from the emissions data?###"
   ]
  },
  {
   "cell_type": "code",
   "execution_count": null,
   "metadata": {},
   "outputs": [],
   "source": []
  }
 ],
 "metadata": {
  "kernelspec": {
   "display_name": "Python 3",
   "language": "python",
   "name": "python3"
  },
  "language_info": {
   "codemirror_mode": {
    "name": "ipython",
    "version": 3
   },
   "file_extension": ".py",
   "mimetype": "text/x-python",
   "name": "python",
   "nbconvert_exporter": "python",
   "pygments_lexer": "ipython3",
   "version": "3.7.6"
  }
 },
 "nbformat": 4,
 "nbformat_minor": 4
}
